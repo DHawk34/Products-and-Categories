{
  "nbformat": 4,
  "nbformat_minor": 0,
  "metadata": {
    "colab": {
      "provenance": []
    },
    "kernelspec": {
      "name": "python3",
      "display_name": "Python 3"
    },
    "language_info": {
      "name": "python"
    }
  },
  "cells": [
    {
      "cell_type": "code",
      "execution_count": 12,
      "metadata": {
        "colab": {
          "base_uri": "https://localhost:8080/"
        },
        "id": "FgMFs4MlXZ1k",
        "outputId": "3a28db21-2673-47ae-d9ac-c33125e8c47b"
      },
      "outputs": [
        {
          "output_type": "stream",
          "name": "stdout",
          "text": [
            "+----------+---------+\n",
            "|   product| category|\n",
            "+----------+---------+\n",
            "|     Apple|    Fruit|\n",
            "|    Potato|Vegetable|\n",
            "|    Pepper|Vegetable|\n",
            "|    Pepper|    Spicy|\n",
            "|    Garlic|Vegetable|\n",
            "|    Garlic|    Spicy|\n",
            "|Blackberry|     NULL|\n",
            "+----------+---------+\n",
            "\n"
          ]
        }
      ],
      "source": [
        "from pyspark.sql import SparkSession\n",
        "\n",
        "spark = SparkSession.builder.getOrCreate()\n",
        "\n",
        "product_df = spark.createDataFrame ([\n",
        "    {\"id\": 1, \"name\": \"Apple\"},\n",
        "    {\"id\": 2, \"name\": \"Potato\"},\n",
        "    {\"id\": 3, \"name\": \"Pepper\"},\n",
        "    {\"id\": 4, \"name\": \"Garlic\"},\n",
        "    {\"id\": 5, \"name\": \"Blackberry\"}\n",
        "])\n",
        "\n",
        "category_df = spark.createDataFrame ([\n",
        "    {\"id\": 1, \"name\": \"Fruit\"},\n",
        "    {\"id\": 2, \"name\": \"Vegetable\"},\n",
        "    {\"id\": 3, \"name\": \"Spicy\"},\n",
        "    {\"id\": 4, \"name\": \"Bread\"}\n",
        "])\n",
        "\n",
        "prod_cat_df = spark.createDataFrame ([\n",
        "    {\"product\": 1, \"category\": 1}, # Apple - Fruit\n",
        "    {\"product\": 2, \"category\": 2}, # Potato - Vegetable\n",
        "    {\"product\": 3, \"category\": 2}, # Pepper - Vegetable\n",
        "    {\"product\": 3, \"category\": 3}, # Pepper - Spicy\n",
        "    {\"product\": 4, \"category\": 2}, # Garlic - Vegetable\n",
        "    {\"product\": 4, \"category\": 3}, # Garlic - Spicy\n",
        "])\n",
        "\n",
        "def get_product_categories_names():\n",
        "  joined = prod_cat_df.join(category_df, category_df.id == prod_cat_df.category)\n",
        "  joined = joined.join(product_df, product_df.id == prod_cat_df.product, \"outer\")\n",
        "  result = joined.select(product_df.name.alias(\"product\"), category_df.name.alias(\"category\"))\n",
        "  return result\n",
        "\n",
        "res = get_product_categories_names()\n",
        "res.show()"
      ]
    }
  ]
}